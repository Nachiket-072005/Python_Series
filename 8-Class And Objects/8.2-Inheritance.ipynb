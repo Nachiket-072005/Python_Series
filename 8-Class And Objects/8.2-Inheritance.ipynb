{
 "cells": [
  {
   "cell_type": "markdown",
   "metadata": {},
   "source": [
    "#### Inheritance In Python\n",
    "Inheritance is a fundamental concept in Object-Oriented Programming (OOP) that allows a class to inherit attributes and methods from another class. This lesson covers single inheritance and multiple inheritance, demonstrating how to create and use them in Python."
   ]
  },
  {
   "cell_type": "code",
   "execution_count": 1,
   "metadata": {},
   "outputs": [],
   "source": [
    "## Inheritance(Single Inheritance)\n",
    "class Car:\n",
    "    def __init__(self, windows, doors, engineType):\n",
    "        self.windows = windows\n",
    "        self.doors = doors\n",
    "        self.engineType = engineType\n",
    "    \n",
    "    def drive(self):\n",
    "        print(f\"The person will drive {self.engineType} car\")"
   ]
  },
  {
   "cell_type": "code",
   "execution_count": 2,
   "metadata": {},
   "outputs": [
    {
     "name": "stdout",
     "output_type": "stream",
     "text": [
      "The person will drive Petrol car\n"
     ]
    }
   ],
   "source": [
    "car1 = Car(4, 4, \"Petrol\")\n",
    "car1.drive()"
   ]
  },
  {
   "cell_type": "code",
   "execution_count": 3,
   "metadata": {},
   "outputs": [],
   "source": [
    "class Tesla(Car):\n",
    "    def __init__(self, windows, doors, engineType, is_SelfDrive):\n",
    "        super().__init__(windows, doors, engineType)\n",
    "        self.is_SelfDrive = is_SelfDrive\n",
    "\n",
    "    def selfDriving(self):\n",
    "        print(f\"Tesla supports self driving : {self.is_SelfDrive}\")"
   ]
  },
  {
   "cell_type": "code",
   "execution_count": 5,
   "metadata": {},
   "outputs": [
    {
     "name": "stdout",
     "output_type": "stream",
     "text": [
      "Tesla supports self driving : True\n",
      "The person will drive Electric car\n"
     ]
    }
   ],
   "source": [
    "tesla1 = Tesla(4, 4, \"Electric\", True)\n",
    "tesla1.selfDriving()\n",
    "tesla1.drive()"
   ]
  },
  {
   "cell_type": "code",
   "execution_count": 9,
   "metadata": {},
   "outputs": [
    {
     "name": "stdout",
     "output_type": "stream",
     "text": [
      "Buddy says woof\n",
      "Owner: Nachiket\n"
     ]
    }
   ],
   "source": [
    "## Multiple Inheritance\n",
    "## When a class inherits from more than one base class.\n",
    "## Base Class 1\n",
    "class Animal:\n",
    "    def __init__(self, name):\n",
    "        self.name = name\n",
    "\n",
    "    def speak(self):\n",
    "        print(\"Subclass must implement this method\")\n",
    "\n",
    "## Base Class 2\n",
    "class Pet:\n",
    "    def __init__(self, owner):\n",
    "        self.owner = owner\n",
    "\n",
    "## Derived Class\n",
    "class Dog(Animal, Pet):\n",
    "    def __init__(self, name, owner):\n",
    "        Animal.__init__(self, name)\n",
    "        Pet.__init__(self, owner)\n",
    "\n",
    "    def speak(self):\n",
    "        return f\"{self.name} says woof\"\n",
    "    \n",
    "\n",
    "## Create an object\n",
    "dog1 = Dog(\"Buddy\", \"Nachiket\")\n",
    "print(dog1.speak())\n",
    "print(f\"Owner: {dog1.owner}\")\n"
   ]
  },
  {
   "cell_type": "markdown",
   "metadata": {},
   "source": [
    "#### Conclusion\n",
    "Inheritance is a powerful feature in OOP that allows for code reuse and the creation of a more logical class structure. Single inheritance involves one base class, while multiple inheritance involves more than one base class. Understanding how to implement and use inheritance in Python will enable you to design more efficient and maintainable object-oriented programs."
   ]
  }
 ],
 "metadata": {
  "kernelspec": {
   "display_name": "Python 3",
   "language": "python",
   "name": "python3"
  },
  "language_info": {
   "codemirror_mode": {
    "name": "ipython",
    "version": 3
   },
   "file_extension": ".py",
   "mimetype": "text/x-python",
   "name": "python",
   "nbconvert_exporter": "python",
   "pygments_lexer": "ipython3",
   "version": "3.12.0"
  }
 },
 "nbformat": 4,
 "nbformat_minor": 2
}
